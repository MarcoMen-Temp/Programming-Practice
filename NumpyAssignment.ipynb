{
 "cells": [
  {
   "cell_type": "markdown",
   "metadata": {},
   "source": [
    "# Programming For Data Analysis\n",
    "## Practical Assignment on numpy.random()\n",
    "\n",
    "#### Compiled by : Marco Men\n",
    "#### To Be Delivered On : 11th November 2018\n",
    "\n",
    "\n",
    "### Numpy's Random Package\n",
    "\n",
    "Random numbers  are used in Monte Carlo methods, stochastic calculus,cryptography,etc\n",
    "The core random number generator is based on the Mersenne Twister algorithm(wikipedia link).\n",
    "Random numbers can be generated from discrete on continuous distributions\n",
    "\n"
   ]
  },
  {
   "cell_type": "code",
   "execution_count": null,
   "metadata": {},
   "outputs": [],
   "source": []
  }
 ],
 "metadata": {
  "kernelspec": {
   "display_name": "Python 3",
   "language": "python",
   "name": "python3"
  },
  "language_info": {
   "codemirror_mode": {
    "name": "ipython",
    "version": 3
   },
   "file_extension": ".py",
   "mimetype": "text/x-python",
   "name": "python",
   "nbconvert_exporter": "python",
   "pygments_lexer": "ipython3",
   "version": "3.6.5"
  }
 },
 "nbformat": 4,
 "nbformat_minor": 2
}
