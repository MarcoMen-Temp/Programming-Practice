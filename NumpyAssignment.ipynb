{
 "cells": [
  {
   "cell_type": "markdown",
   "metadata": {},
   "source": [
    "# Programming For Data Analysis\n",
    "## Practical Assignment on numpy.random()\n",
    "\n",
    "#### A Jupyter Notebook by : Marco Men\n",
    "#### To Be Delivered On : 11th November 2018\n",
    "\n",
    "\n",
    "\n",
    "## List Of Resources\n",
    "\n",
    "https://www.overleaf.com/learn/latex/Brackets_and_Parentheses#Reference_guide\n",
    "\n",
    "https://www.youtube.com/watch?v=-F4WS8o-G2A\n",
    "\n",
    "Stat Trek\n",
    "\n",
    "Khan academy\n",
    "\n",
    "Numpy guide- 3rd edition(Ivan Idris)\n",
    "\n",
    "Numpy reference,release 1.11.0(Numpy community)\n",
    "\n",
    "\n",
    "\n",
    "\n",
    "\n",
    "\n",
    "### Numpy's Random Package\n",
    "\n",
    "Random numbers  are used in Monte Carlo methods, stochastic calculus,cryptography,etc\n",
    "The core random number generator is based on the Mersenne Twister algorithm(https://en.wikipedia.org/wiki/Mersenne_Twister), written by Makoto Matsumoto and Takuli Nishimura.\n",
    "Random numbers(or variables) can be generated from discrete on continuous distributions. They depend on the type of variables(either discrete or continuous) randomnly generated.\n",
    "Each of the discrete and continuius random number generators take a *size* keyword. If *size* is None(default), then the size is determined from the additional inputs(using ufunc-like broadcasting). If no additional inputs are needed, or if these additional inputs are scalars, then a single number is generated from the selected distribution. If size is an integer, then a 1-D array of that size is generated filled with random numbers from the selected distribution. Finally, if *size* is a tuple, then an array of that shape is returned filled with random numbers.\n",
    "Scipy python package does not contain this attribute to generate random variables, so it relies on numpy's random package to do so.\n"
   ]
  },
  {
   "cell_type": "code",
   "execution_count": 1,
   "metadata": {},
   "outputs": [
    {
     "ename": "NameError",
     "evalue": "name 'np' is not defined",
     "output_type": "error",
     "traceback": [
      "\u001b[1;31m---------------------------------------------------------------------------\u001b[0m",
      "\u001b[1;31mNameError\u001b[0m                                 Traceback (most recent call last)",
      "\u001b[1;32m<ipython-input-1-e8e6f2680ac0>\u001b[0m in \u001b[0;36m<module>\u001b[1;34m()\u001b[0m\n\u001b[0;32m      2\u001b[0m \u001b[1;31m# sample of a standard normal distribution\u001b[0m\u001b[1;33m\u001b[0m\u001b[1;33m\u001b[0m\u001b[0m\n\u001b[0;32m      3\u001b[0m \u001b[1;33m\u001b[0m\u001b[0m\n\u001b[1;32m----> 4\u001b[1;33m \u001b[0mnp\u001b[0m\u001b[1;33m.\u001b[0m\u001b[0mrandom\u001b[0m\u001b[1;33m.\u001b[0m\u001b[0mrandn\u001b[0m\u001b[1;33m(\u001b[0m\u001b[1;36m10\u001b[0m\u001b[1;33m)\u001b[0m\u001b[1;33m\u001b[0m\u001b[0m\n\u001b[0m",
      "\u001b[1;31mNameError\u001b[0m: name 'np' is not defined"
     ]
    }
   ],
   "source": [
    "# Examples of different size and input arrays of randomly generated numbers\n",
    "# sample of a standard normal distribution\n",
    "\n",
    "np.random.randn(10)"
   ]
  },
  {
   "cell_type": "code",
   "execution_count": null,
   "metadata": {},
   "outputs": [],
   "source": [
    "# similar to ranf and sample(see below)\n",
    "# returns floats from 0 to 1(not inclusive)\n",
    "\n",
    "np.random.random(10)"
   ]
  },
  {
   "cell_type": "code",
   "execution_count": null,
   "metadata": {},
   "outputs": [],
   "source": [
    "# similar to np.random_integers(but the high value is excluded)\n",
    "np.random.randint(4,20)"
   ]
  },
  {
   "cell_type": "code",
   "execution_count": null,
   "metadata": {},
   "outputs": [],
   "source": [
    "# samples from a 1-D array(0 to 14)\n",
    "\n",
    "np.random.choice(14)"
   ]
  },
  {
   "cell_type": "code",
   "execution_count": null,
   "metadata": {},
   "outputs": [],
   "source": [
    "# Returns floats from 0 to 1(not inclusive)\n",
    "# similar to ranf and sample(see above)\n",
    "\n",
    "np.random.sample(10)"
   ]
  },
  {
   "cell_type": "markdown",
   "metadata": {},
   "source": [
    "Based on the numpy.random() codes above, we can clearly see that random numbers can be easily generated either through returning arrays of floats(from a continuous uniform distribution) or a single integer.\n",
    "In the case of an array of floats being generated, there are infinite number of floats(from 0 to approximate 1).\n",
    "In the case of an integer being returned from 0 to 20, after 20 returned values the integers will repeat themselves on another loop(pseudo random number generator)"
   ]
  },
  {
   "cell_type": "markdown",
   "metadata": {},
   "source": [
    "### Random Variables\n",
    "\n",
    "By definition, a random variable is a variable that is determined by a chance event. It is a variable whose possible values are numerical outcomes of a random phenomenon. There are two types of random variables:\n",
    "\n",
    "* Discrete\n",
    "* Continuous\n",
    "\n",
    "### Discrete Variables\n",
    "\n",
    "These are variables that can be generated by the possible outcomes.It can be quantified,so can only be an integer.Example,heads or tails on a coin flip. If you count the number of heads or tails,you will never get 4.35 times tails(only an integer). So the number of heads or tails is a discrete variable\n",
    "\n",
    "\n",
    "\n",
    "\n",
    "### Continuous Variables\n",
    "\n",
    "These are variables that are generated between an interval of 2 values.It can either be an integer or fraction within a range of values.Example, the weight/height requirements for fire fighters(Stat Trek example) between 75kgs. and 100kgs(including fractions). Anyone outside the weight requirements need not apply. So the weights are continuous along that interval(or range) of values.\n",
    "\n",
    "\n",
    "### Probability Distribution\n",
    "\n",
    "It is a rule or set of rules that assigns probabilities to values of random variables. The two types of probability distributions are :\n",
    "\n",
    "* Discrete Probability Distribution \n",
    "* Continuous Probability Distribution\n",
    "\n",
    "\n",
    "#### Discrete Probability Distribution\n",
    "\n",
    "Probability distribution of a discrete random variable.\n",
    "Discrete random numbers take on only a countable number of values(usually integers). \n",
    "The coin flip example, if you toss the coin once there are two possible outcomes(heads or tails) with the same likelihood of occuring(50/50). If on,the other hand if you toss the coin a number of times(n=2), with X= the number of heads observed in 2 coin flips. Because \n",
    "On this exercise we can get 4 possible outcomes:\n",
    "\n",
    " *  Tails on both flips (X = 0) 1/4 or .25\n",
    " *  Heads / Tails (X = 1)  1/4 or .25 \n",
    " *  Tails / Heads (X = 1)  1/4 or .25\n",
    " *  Heads on both flips (X = 2)  1/4 or .25\n",
    "    \n",
    "   Probability Distribution ( Probability Function or Probability of Mass Function )\n",
    "    \n",
    "    \n",
    "   |  Value of X    |    Probability    |\n",
    "   |:--------------:|  ----------------:|\n",
    "   |       0        |     1/4 = 0.25    |\n",
    "   |       1        |     2/4 = 0.5     |\n",
    "   |       2        |     1/4 = 0.25    |\n",
    "    \n",
    "    \n",
    "The probability distribution is linked to the number of possible outcomes.\n",
    "Discrete probability distributions(such as binomial or negative binomial) can also be represented by equations.\n",
    "\n",
    " Note : The example above was based on a video from 'StatTrek'. And was used for simplicity purposes. On the Numpy example I will try to use a more complex algotithm to exemplify the discrete probability distribution(example throw 3 6-sided die 50 times and count how many 5-sided come back).\n",
    " \n",
    "Examples of discrete probability distributions are: \n",
    "\n",
    "* Bernoulli distribution;\n",
    "* Binomial Distribution;\n",
    "* Poisson Distribution\n",
    "\n",
    "#### Continuous Probability Distribution\n",
    "\n",
    "Probability distribution of a continuous random variable. Continuous random numbers can take on an uncountable ( or infinite ) number of values. For example, if we define a random variable X to be the height of students in a class. Since the continuous random variable is defined over an interval of values, it is represented by the area under a curve ( or the integral ).\n",
    "Because, there is an uncountable  number of possibilities for the random number, a continuous distribution is modelled by a Probability Density Function(or PDF)\n",
    "This type of probability distribution can be represented by an equation named Probability Density Function(PDF). All PDFs have the following 3 properties:\n",
    "  * Y is a function of random variable X ;\n",
    "  * Y is greater or equal to 0 for all X ;\n",
    "  * Area under the curve is equal to 1\n",
    "  \n",
    "  The PDF for this distribution is:\n",
    "  $$ p(x)=\\frac {1} {b-a}$$\n",
    "  $ b = High\\ X\\ (higher\\ parameter) ;\\\\ a = Low\\ X\\ (lower\\ parameter) $\n",
    "  \n",
    " "
   ]
  },
  {
   "cell_type": "code",
   "execution_count": null,
   "metadata": {},
   "outputs": [],
   "source": [
    "# Libraries used in this notebook\n",
    "\n",
    "import numpy as np\n",
    "import matplotlib.pyplot as plt\n",
    "import matplotlib.style\n",
    "import matplotlib as mpl\n",
    "\n",
    "mpl.style.use('classic')\n",
    "\n",
    "mpl.rcParams['font.size'] = 14"
   ]
  },
  {
   "cell_type": "markdown",
   "metadata": {},
   "source": [
    "\n",
    "## Permutation(n) \n",
    "\n",
    "There are 2 types of permutations in numpy:\n",
    "* **shuffle(sequence)** - Randomly permutes the items of any sequence. If the sequence is an array, then it must be 1-D array.\n",
    "* **permutation(n)** Returns a permutation of the integers from 0 to n-1 ( similar to factorial of a number )\n",
    "\n",
    "https://stackoverflow.com/questions/15474159/shuffle-vs-permute-numpy\n",
    "\n",
    "np.random.permutation has two differences from np.random.shuffle:\n",
    "\n",
    "* if passed an array, it will return a shuffled copy of the array; np.random.shuffle shuffles the array inplace\n",
    "* if passed an integer, it will return a shuffled range i.e. np.random.shuffle(np.arange(n))\n",
    "\n",
    "\n",
    "If x is an integer, randomly permute np.arange(x). If x is an array, make a copy and shuffle the elements randomly.\n",
    "\n",
    "\n"
   ]
  },
  {
   "cell_type": "code",
   "execution_count": null,
   "metadata": {},
   "outputs": [],
   "source": [
    "# passed an array x\n",
    "\n",
    "x = [1, 3, 5,2, 6, 9]"
   ]
  },
  {
   "cell_type": "code",
   "execution_count": null,
   "metadata": {},
   "outputs": [],
   "source": [
    "# makes a copy of the array x and shuffles the elements randomly.\n",
    "np.random.permutation(x)\n",
    "x"
   ]
  },
  {
   "cell_type": "code",
   "execution_count": null,
   "metadata": {},
   "outputs": [],
   "source": [
    "# shuffles array x\n",
    "np.random.shuffle(x)\n",
    "x"
   ]
  },
  {
   "cell_type": "code",
   "execution_count": null,
   "metadata": {},
   "outputs": [],
   "source": [
    "y=180"
   ]
  },
  {
   "cell_type": "code",
   "execution_count": null,
   "metadata": {},
   "outputs": [],
   "source": [
    "# returns a shuffled range\n",
    "np.random.permutation(y)"
   ]
  },
  {
   "cell_type": "code",
   "execution_count": null,
   "metadata": {},
   "outputs": [],
   "source": [
    "# Returns the range of y\n",
    "np.random.shuffle(y)\n",
    "y"
   ]
  },
  {
   "cell_type": "markdown",
   "metadata": {},
   "source": [
    "numpy.random.shuffle() only takes array-like parameters, unlike numpy.random.permutation(), which takes both arrays and integers. And based on the example above, shuffle and permutation numpy functions are different. If I do, np.random.shuffle(np.arange(y)) the range of y is returned ( 180 values). "
   ]
  },
  {
   "cell_type": "code",
   "execution_count": null,
   "metadata": {},
   "outputs": [],
   "source": [
    "arr = np.arange(y)\n",
    "np.random.shuffle(arr)\n",
    "arr"
   ]
  },
  {
   "cell_type": "markdown",
   "metadata": {},
   "source": [
    "\n",
    "## Simple Random Data\n",
    "\n",
    "Numpy's random package can return random numbers(integers of floats) from lists, arrays,or tuples(permutted or shuffled)\n",
    "Also, from all the probability distributions, numpy can create arrays,or tuples from random variables from specific PDFs or permutations of integers or arrays."
   ]
  },
  {
   "cell_type": "markdown",
   "metadata": {},
   "source": [
    "## Types of Distribution\n",
    "\n",
    "\n",
    "### How to Choose Between T-Distribution and Normal Distribution?\n",
    "(from stattrek.com)\n",
    "\n",
    "The t distribution and the normal distribution can both be used with statistics that have a bell-shaped distribution. This suggests that we might use either the t-distribution or the normal distribution to analyze sampling distributions. Which should we choose?\n",
    "\n",
    "Guidelines exist to help you make that choice. Some focus on the population standard deviation.\n",
    "\n",
    "If the population standard deviation is known, use the normal distribution\n",
    "If the population standard deviation is unknown, use the t-distribution.\n",
    "Other guidelines focus on sample size.\n",
    "\n",
    "If the sample size is large, use the normal distribution. (See the discussion above in the section on the Central Limit Theorem to understand what is meant by a \"large\" sample.)\n",
    "If the sample size is small, use the t-distribution.\n",
    "In practice, researchers employ a mix of the above guidelines. On this site, we use the normal distribution when the population standard deviation is known and the sample size is large. We might use either distribution when standard deviation is unknown and the sample size is very large. We use the t-distribution when the sample size is small, unless the underlying distribution is not normal. The t distribution should not be used with small samples from populations that are not approximately normal.\n",
    "\n",
    "\n",
    "## Five Distribution Types\n",
    "\n",
    "My choice for the distribution types are as follows:\n",
    "   * Uniform\n",
    "   * Gaussian(normal)-continuous ; \n",
    "   * Poisson(binomial) - discrete ; \n",
    "   * Standard_t(t distribution-continuous -- William Guisset in Guinness brewery Dublin,Ireland(I would say at least 90% of the class will pick  this distribution ; \n",
    "   * Pareto(Type II out of IV) ;\n",
    "  \n",
    "   \n",
    "In numpy,numpy.random() selects values(integers or floats) to be stored in 1D-arrays,2D-arrays,ndarays,or lists of tuples from different probability distributions. Programmers can select the size of the variables to be stored and the parameters of the distribution to be  randomly sampled.\n",
    "\n",
    "I must confess,that I was mislead by the information provided by the numpy docummentation,regarding the different distributions. On the numpy documentation, the PDFs are provided which are correct,but for the purposes of random sampling from those distributions we must understand CDFs(Cumulative Density Functions). We can plot the density functions for the different probability distributions,by adding the function expressions(**equations**) in our code to plot the PDF on top of the histogram of frequency. An easier way would be to use **scipy.stats()**\n",
    "Also, there seem to be an overlap of information regarding probability distributions. So after investigating, I found the following links:\n",
    "\n",
    "https://stackoverflow.com/questions/44817444/what-is-the-difference-between-scipy-stats-module-and-numpy-random-module-betwe?rq=1\n",
    "\n",
    "https://stackoverflow.com/questions/41974615/how-do-i-calculate-pdf-probability-density-function-in-python\n",
    "\n",
    "In a nutshell, numpy does not have the CDFs included in there package. I could write them, as functions in python to use them whenever I would need them. But scipy.stats package has all the probability distributions and its documentation provides clearance on them. Also,some scipy functions are used by numpy in the background and vice versa.\n",
    "\n",
    "\n",
    "\n",
    "## Cumulative Density Functions\n",
    "\n",
    "The cumulative  distribution function describes the probability of \"hitting\" *x* or less in a given distribution. All random variables(**discrete** and **continuous**) have a cumulative distribution function. It is a function giving the probability that the random variable *X* is less than or equal to *x*, for every value *x*. For a discrete random variable,the CDF is found by summing up the probabilities\n",
    "\n"
   ]
  },
  {
   "cell_type": "markdown",
   "metadata": {},
   "source": [
    "## Uniform Distribution\n",
    "\n",
    "One of the simplest and useful distribution is the uniform distribution."
   ]
  },
  {
   "cell_type": "code",
   "execution_count": null,
   "metadata": {},
   "outputs": [],
   "source": [
    "\n",
    "# Adapted from an example in 'Stattrek' on continuous uniform distribution\n",
    "# Draws 1000 points randomly from 0 to 0.99999999.... \n",
    "data = np.random.uniform(0.4,0.9,1000)\n",
    "\n",
    "# a, b, c are texts to be shown by matplotlib as LaTex\n",
    "a =  \"Graphical\\ Representation\\ of\\ an\\ Uniform\\ Distribution\"\n",
    "b =  'Y =1, when\\ 0 \\leq X \\geq 1'\n",
    "c =  'Y=0, everywhere\\ else '                   # I need to better format the text size and position\n",
    "\n",
    "count, bins, ignored = plt.hist(data, 15, density=True)\n",
    "plt.plot(bins, np.ones_like(bins), linewidth = 2, color = 'r')  # plots a continuous constant(y=1)line \n",
    "plt.plot()\n",
    "plt.title('$%s$ \\n'%a, fontsize=20)\n",
    "\n",
    "plt.plot()\n",
    "plt.text(1, 2, '$ %s $'%b) \n",
    "\n",
    "plt.plot()\n",
    "plt.text(1, 1, '$ %s $'%c)\n",
    "\n",
    "\n",
    "plt.show()\n"
   ]
  },
  {
   "cell_type": "markdown",
   "metadata": {},
   "source": [
    "The graph represented above has the 3 PDF properties\n",
    "\n",
    "\n",
    "There are an infinite number of values between 2 points. So the probability of selecting any particular value is always 0.With continuous probability distributions $ P(X=a) = 0 $,this simply means that the probability of X taking an infinite number of values is endless. So we take a range of values\n",
    "\n",
    "The cumulative probability(for continuous distributions) is equal to the area under the PDF curve between 2 points.\n",
    "Example: find $ P(0.4 =< X >= 0.9) $\n",
    "Solution :\n",
    "$ Area = (0.9 - 0.4) * 1.0 = 0.5 $\n"
   ]
  },
  {
   "cell_type": "markdown",
   "metadata": {},
   "source": [
    "    \n",
    " ## Normal (Gaussian) Distribution\n",
    " \n",
    " \n",
    " \n",
    "This distribution first derived from De Moivre and 200 years later by both Gauss and Laplace. Often called the bell shaped curve,because of its shape. \n",
    "\n",
    "\n",
    " \n",
    " The normal, or Gaussian distribution is the limiting distribution of independent samples from any sufficiently well-behaved distributions(**central limit theorem**). The normal distribution is also the distribution of maximum entropy when the *mean* and *variance* alone are fixed. \n",
    "These two facts account for its name as well as the wide variety of situations that can be usefully modelled using the **normal distribution**. Because it is so widely used, the full PDF with the *location*($\\mu$) and *scale*($\\sigma$) is provided\n",
    " \n",
    " The PDF for Gaussian distribubion is :\n",
    " $$ p(x)= \\frac {1} {\\sqrt {2 .\\pi .\\sigma ^2}} e ^ {- \\frac {( x - \\mu)^2}  {2 .\\sigma ^2}}$$    \n",
    " \n",
    "This distribution is also known as \"bell-shaped\" density curve and is described by its mean $\\mu$ and standard deviation $\\sigma$. The curve is symmetrical, centred around the mean, with its spread determined by its standard deviation. The data pushed towards the mean is the most frequent.\n",
    "\n",
    "Almost 68 % of the data falls within a distance of one standard deviation from the mean on either side and 95% within 2 standard deviations."
   ]
  },
  {
   "cell_type": "code",
   "execution_count": null,
   "metadata": {},
   "outputs": [],
   "source": [
    "# a, b, c are texts to be shown by matplotlib as LaTex\n",
    "\n",
    "mu, sigma = 0, 0.1 # mean and standard deviation\n",
    "s = np.random.normal(mu, sigma, 1000)\n",
    "\n",
    "a = \"Example \\ from \\ numpy.org \\ Normal \\ Distribution\"\n",
    "\n",
    "\n",
    "count, bins, ignored = plt.hist(s, 15, density=True)\n",
    "plt.plot(bins, 1/(sigma * np.sqrt(2 * np.pi)) *\n",
    "                np.exp( - (bins - mu)**2 / (2 * sigma**2) ),\n",
    "          linewidth=2, color='r')\n",
    "          \n",
    "plt.plot()\n",
    "plt.title('$%s$'%a, fontsize=20)\n",
    "\n",
    "plt.show()"
   ]
  },
  {
   "cell_type": "markdown",
   "metadata": {},
   "source": [
    "We can see by the graph that numpy.random.normal returns samples closer to the mean than those far away. It peaks at the mean."
   ]
  },
  {
   "cell_type": "markdown",
   "metadata": {},
   "source": [
    "### Questions(from https://stattrek.com/probability-distributions/normal.aspx?tutorial=prob)\n",
    "\n",
    "Problem 1\n",
    "\n",
    "An average light bulb manufactured by the Acme Corporation lasts 300 days with a standard deviation of 50 days. Assuming that bulb life is normally distributed, what is the probability that an Acme light bulb will last at most 365 days?\n"
   ]
  },
  {
   "cell_type": "code",
   "execution_count": null,
   "metadata": {},
   "outputs": [],
   "source": [
    "   \n",
    "mean, std = 300, 50\n",
    "g = np.random.normal(mean, std, 365)\n",
    "\n",
    "a =  \"Graphical\\ Representation\\ of\\ Acme\\ Bulb\\ Problem\"\n",
    " \n",
    "plt.title('$%s$ \\n'%a, fontsize=20)\n",
    "\n",
    "\n",
    "\n",
    "plt.xlabel('Number of Days')\n",
    "plt.ylabel('Probaility')\n",
    "\n",
    "count, bins, ignored = plt.hist(g, 10, density=True)\n",
    "plt.plot(bins, 1/(std * np.sqrt(2 * np.pi)) * \n",
    "         np.exp(- (bins - mean) **2 / (2 * std**2) ),\n",
    "         linewidth=2, color= 'r')\n",
    "plt.show()\n",
    "\n",
    "\n",
    "\n",
    "plt.plot()\n",
    "\n",
    "\n",
    "# CDF\n",
    "\n",
    "CDF = np.cumsum(g)\n",
    "\n",
    "plt.title(r'$CDF$', fontsize=20)\n",
    "\n",
    "plt.xlabel('Number of Days')\n",
    "plt.ylabel('Probability')\n",
    "           \n",
    "\n",
    "\n",
    "plt.plot(CDF)\n",
    "plt.show()\n",
    "\n",
    "# I want to print y values for x = 364 and y max value\n",
    "\n",
    "# From the cumulative distribution\n",
    "# It appears like it is 10k(365days) / 11k(total days) = 0.90909... Roghly"
   ]
  },
  {
   "cell_type": "markdown",
   "metadata": {},
   "source": [
    "\n",
    "Problem 2\n",
    "\n",
    "Suppose scores on an IQ test are normally distributed. If the test has a mean of 100 and a standard deviation of 10, what is the probability that a person who takes the test will score between 90 and 110?\n",
    "\n",
    "\n",
    "https://stackoverflow.com/questions/46889189/plot-a-density-function-above-a-histogram"
   ]
  },
  {
   "cell_type": "code",
   "execution_count": null,
   "metadata": {},
   "outputs": [],
   "source": [
    "# The second question\n",
    "\n",
    "mu, sigma = 100, 10\n",
    "\n",
    "data = np.random.normal(mu,sigma,1000)\n",
    "\n",
    "a =  \"Graphical\\ Representation\\ of\\ IQ\\ Test\\ Results\"\n",
    "\n",
    "plt.title('$%s$ \\n'%a, fontsize=20)\n",
    "\n",
    "\n",
    "\n",
    "plt.xlabel('IQ Results')\n",
    "plt.ylabel('Probaility')\n",
    "\n",
    "count, bins, ignored = plt.hist(data, 10, density=True)\n",
    "plt.plot(bins, 1/(sigma * np.sqrt(2 * np.pi)) * \n",
    "         np.exp(- (bins - mu) **2 / (2 * sigma**2) ),\n",
    "         linewidth=2, color= 'r')\n",
    "plt.show()\n",
    "\n",
    "\n",
    "# roughly 68 % fall between 90 and 110\n",
    "# https://stattrek.com/probability-distributions/normal.aspx?tutorial=prob\n",
    "# from the empirical  rule or 68-95-99.7 rule(1 sd and the mean)\n",
    "\n"
   ]
  },
  {
   "cell_type": "markdown",
   "metadata": {},
   "source": [
    "Looking at the histogram above,I get roughly closer to 70%(within the mean). We must remeber that on a normal distribution,the area between the 2 standard deviations is around 95%. The area the mean is 68%(from Stattrek), according to the 'empirical rule'. So we can conclude based on this rule that tere is around 68% achieving marks between 90 and 110"
   ]
  },
  {
   "cell_type": "markdown",
   "metadata": {},
   "source": [
    "\n",
    "## Standard_Normal Distribution(Z-Score) change this distribution to either binomial or gamma\n",
    "\n",
    "\n",
    "**Calculating a Z-score(Standard_Normal)**\n",
    "\n",
    "The **standard-normal** distribution is the same as the **normal** distribution with mean 0 and standard deviation 1.\n",
    "\n",
    "A zero-mean, unit variance, normally distributed random number often denoted *Z*.\n",
    "\n",
    "The *Z-score* for any value *x* of a normal distribution,having mean *m* and standard deviation *s*, is given by:\n",
    "\n",
    "   *$$z=\\frac {(x-m)} {s}$$*\n",
    "   \n",
    "## Problem 1\n",
    "\n",
    "Molly earned a score of 940 on a national achievement test. The mean test score was 850 with a standard deviation of 100. What proportion of students had a higher score than Molly? (Assume that test scores are normally distributed.)  \n",
    "\n"
   ]
  },
  {
   "cell_type": "code",
   "execution_count": null,
   "metadata": {},
   "outputs": [],
   "source": [
    "# sigma * np.random.randn()\n",
    "\n",
    "x, mu, sigma = 940,850, 100\n",
    "\n",
    "z = sigma * np.random.randn(850) + mu\n",
    "\n",
    "count, bins, ignored = plt.hist(z, 10, density=True)\n",
    "\n",
    "plt.title(r'$Distribution\\ Of\\ Test\\ Scores$', fontsize=20)\n",
    "\n",
    "plt.xlabel('Test Scores')\n",
    "plt.ylabel('Probability')\n",
    "           \n",
    "\n",
    "plt.show()\n"
   ]
  },
  {
   "cell_type": "markdown",
   "metadata": {},
   "source": [
    "Again,following the empirical rule, 940 (Molly's grade) falls on the close to the second standard deviation(which is 950). The ' empirical rule' states that the area between 2 standard deviations is equal to approximately 95%. 940 is less than the second standard deviation. so I can assume that in between 90 to 95 %. The full normal curve area is 1. So the rest of the population that scored higher than Molly has to be the remainder(1 - .90=.10).\n",
    "The proportion of students that scored higher than Molly is around 10 %."
   ]
  },
  {
   "cell_type": "markdown",
   "metadata": {},
   "source": [
    " ## Poisson Distribution\n",
    " \n",
    " The Poisson distribution is the limit of the binomial distribution fo large N (what is N). This distribution is represented by the following PDF: $$ f(k; \\lambda) = \\frac {\\lambda^k . e^ {- \\lambda}} { k!} $$\n",
    " \n",
    " This random number counts the number of successes in *n* independent experiments(where the probability of success in each experiment id *p*) in the limit as $ n\\to\\infty$ and $ p\\to 0 $ gets very small such as $\\lambda = np \\geq 0$ is constant. \n",
    "It can be used, for example, to model how many typographical errors are on each page of a book. It is a discrete distribution so the distribution range are integers( *n* number of heads or tails). Or measuring the frequency of an event for a specified period of time(i.e. the number of members logged on a website for a period o time can be measured by Poisson distribution \n",
    " \n",
    " pg.1215\n",
    " \n",
    " \n",
    " https://stackoverflow.com/questions/35729290/python-numpy-poisson-distribution"
   ]
  },
  {
   "cell_type": "code",
   "execution_count": null,
   "metadata": {},
   "outputs": [],
   "source": [
    "# The next 2 examples are from numpy.org; The 3rd example is from a problem in Stattrek for Poisson distribution\n",
    "\n",
    "lam = 5\n",
    "k = 1000\n",
    "p = np.random.poisson(lam, k)\n",
    "\n",
    "a =  \"Graphical\\ Representation\\ of\\ a\\ Poisson\\ Distribution\"\n",
    "\n",
    "count, bins, ignored = plt.hist(p, 14, density=True)\n",
    "\n",
    "\n",
    "\n",
    "\n",
    "\n",
    "plt.plot()\n",
    "plt.title('$%s$ \\n'%a, fontsize=20)\n",
    "\n",
    "\n",
    "\n",
    "\n",
    "plt.show()"
   ]
  },
  {
   "cell_type": "markdown",
   "metadata": {},
   "source": [
    "We can see that the highest frequency bins are located between the 25th and 50th percentile(as opposed to the Gaussian,which has the highest frequency on the 50th percentile)"
   ]
  },
  {
   "cell_type": "code",
   "execution_count": null,
   "metadata": {},
   "outputs": [],
   "source": [
    "s= np.random.poisson(lam=(100., 500.), size=(100, 2))\n",
    "\n",
    "a =  \"Graphical\\ Representation\\ Of\\ 2\\ Poisson\\ Distribution\\ Samples\"\n",
    "\n",
    "count, bins, ignored = plt.hist(s, 14, density=True)\n",
    "\n",
    "plt.plot()\n",
    "plt.title('$%s$ \\n'%a, fontsize=20)\n",
    "\n",
    "plt.show()\n",
    "\n"
   ]
  },
  {
   "cell_type": "markdown",
   "metadata": {},
   "source": [
    "In this last example 2 samples were drawn. The first one the lambda is specified at 100(higher frequency at 100) and the second at 500\n",
    "\n",
    "https://stackoverflow.com/questions/35729290/python-numpy-poisson-distribution\n"
   ]
  },
  {
   "cell_type": "markdown",
   "metadata": {},
   "source": [
    "### Question( from: \"https://stattrek.com/probability-distributions/poisson.aspx?Tutorial=stat\")\n",
    "\n",
    "The average number of homes sold by the Acme Realty company is 2 homes per day. What is the probability that exactly 3 homes will be sold tomorrow?\n"
   ]
  },
  {
   "cell_type": "code",
   "execution_count": null,
   "metadata": {},
   "outputs": [],
   "source": [
    "\n",
    "\"\"\" \n",
    "mu(mean) equals 2 because that's the average number of homes sold daily\n",
    "k(number of events) is 3(homes expected to sell) that we are trying to find the likelihood\n",
    "x-axis = k(events or number of homes sold)\n",
    "y-axis = Probabity of k events occuring\n",
    "\"\"\"\n",
    "\n",
    "mu, k=  2, 3\n",
    "\n",
    "\n",
    "\n",
    "\n",
    "\n",
    "s = np.random.poisson(2, 10000)\n",
    "\n",
    "a =  \"Graphical\\ Representation\\ of\\ Acme\\ Realty\\ With\\ Poisson\\ Distribution\"\n",
    "\n",
    "count, bins, ignored = plt.hist(s, 10, density = True)\n",
    " \n",
    "plt.plot()\n",
    " \n",
    "\n",
    "\n",
    "plt.title('$%s$ \\n'%a, fontsize=20)\n",
    "\n",
    "\n",
    "plt.xlabel('Number of Houses Sold(k)')\n",
    "plt.ylabel('Likelihood')\n",
    "\n",
    "\n",
    "\n",
    "plt.show()\n",
    "\n",
    "\n",
    "\n",
    "\n"
   ]
  },
  {
   "cell_type": "markdown",
   "metadata": {},
   "source": [
    "Looking at the distribution on the histogram above the histogram bin where 3 is gives us an approximate probability of 0.20. Let's say 20% chance of 3 houses being sold tomorrow or any given day"
   ]
  },
  {
   "cell_type": "markdown",
   "metadata": {},
   "source": [
    " ## Standard_t Distribution\n",
    " \n",
    " \n",
    "Draw samples from the standard Student's distribution wit df degrees of freedom. A special case of the hyperbolic distribution. As the df gets large, the result resembles that of the standard normal distribution.\n",
    "\n",
    "The PDF fot the t distribution is: \n",
    "\n",
    "$$ P(x,df)= \\frac {\\Gamma ^ {\\frac  {df + 1} {2}}} {\\sqrt {\\pi .df} .\\Gamma ^{\\frac {df} {2}}} . 1 + \\bigg(\\frac {x^2} {df}\\bigg) ^{ -(df +1) /2}$$\n",
    "\n",
    "    \n",
    "On a side note, I believe this distribution will be a popular choice amongst students from this course. Mainly for 2 reasons:\n",
    "\n",
    "  1)  The fact that we read about it on a different module\n",
    "  2)  its origins(1908,william Gisset while working for the Guinness Brewery in Dublin) being so close;\n",
    "    \n",
    "Gisset had to publish under a pseudonym,and so he used the name Student\n",
    "    \n",
    " If I had to guess, I would say more than 90% of the class students will have this distribution in their notebooks.\n",
    " \n",
    " The t-test is based on an assumption that the data come from a Normal distribution. The t-test provides a way to test whether the sample mean(mean calculated from the data) is a good estimate of the true mean(from a normally distributed). The sample size is usually small.\n",
    " \n",
    "While researching information on this distribution, I found numpy documentation lacking clarity regarding the \"T-distribution. I supplemented with scipy.stats documentation. On the problems below I will use scipy, which as mentioned above builds some of its functions from numpy and vice versa.\n",
    " \n",
    "\n",
    " "
   ]
  },
  {
   "cell_type": "markdown",
   "metadata": {},
   "source": [
    "### Problem 2 (\"https://stattrek.com/probability-distributions/t-distribution.aspx\")\n",
    "\n",
    "Suppose scores on an IQ test are normally distributed, with a population mean of 100. Suppose 20 people are randomly selected and tested. The standard deviation in the sample group is 15. What is the probability that the average test score in the sample group will be at most 110?\n",
    "\n",
    "Solution:\n",
    "\n",
    "To solve this problem, we will work directly with the raw data from the problem. We will not compute the t statistic; the T Distribution Calculator will do that work for us. Since we will work with the raw data, we select \"Sample mean\" from the Random Variable dropdown box. Then, we enter the following data:\n",
    "\n",
    "The degrees of freedom are equal to 20 - 1 = 19.\n",
    "The population mean equals 100.\n",
    "The sample mean equals 110.\n",
    "The standard deviation of the sample is 15.\n",
    "\n",
    "https://docs.scipy.org/doc/scipy/reference/generated/scipy.stats.t.html#scipy.stats.t\n"
   ]
  },
  {
   "cell_type": "code",
   "execution_count": null,
   "metadata": {},
   "outputs": [],
   "source": [
    "# degrees of freedom is 20 -1 = 19(or N - 1)\n",
    "\n",
    "# use scipy.stats\n",
    "# https://docs.scipy.org/doc/scipy/reference/generated/scipy.stats.t.html#scipy.stats.t\n",
    "from scipy import stats\n",
    "\n",
    "fig, ax = plt.subplots(1,1)\n",
    "\n",
    "df = 20 -1\n",
    "mu,sigma = 110, 15\n",
    "\n",
    "\n",
    "\n",
    "\n",
    "s = np.random.standard_t(19,size=110)\n",
    "\n",
    "print(np.mean(s))\n",
    "print(np.std(s))\n",
    "\n",
    "\n",
    "t = (np.mean(s)) -100 /(s.std(ddof=1)/np.sqrt(len(s)))\n",
    "\n",
    "\n",
    "\n",
    "\n",
    "\n",
    "h = plt.hist(s, bins=20, density=True)\n",
    " \n",
    "\n",
    "# Calculate t-statistic\n",
    "\n",
    "plt.show(h)\n",
    "\n",
    "# CDF\n",
    "\n",
    "CDF = np.cumsum(s > t) / float(len(s))\n",
    "\n",
    "plt.title(r'$CDF$', fontsize=20)\n",
    "\n",
    "\n",
    "\n",
    "plt.xlabel('IQ Results')\n",
    "plt.ylabel('Probability')\n",
    "\n",
    "plt.xlim(0,110)\n",
    "plt.ylim(0,1)\n",
    "           \n",
    "\n",
    "\n",
    "plt.plot(CDF)\n",
    "plt.show()\n",
    "\n",
    "# one sided t test\n",
    "\n",
    "np.sum(s>t) / float(len(s))\n",
    "\n"
   ]
  },
  {
   "cell_type": "markdown",
   "metadata": {},
   "source": [
    "According to the results above, there is 100 % chance that the sample average will not be greater than 110(based on the one sided t test(s > t)- Null Hypothesis. And according to the CDF,the average scores of the sample mean will be in around 47 %."
   ]
  },
  {
   "cell_type": "markdown",
   "metadata": {},
   "source": [
    "## Pareto(Type II) Distribution\n",
    "\n",
    "\n",
    "The Lomax or Pareto II is a shifted Pareto distribution. Lomax = Pareto II,when mu=0.\n",
    "\n",
    "This distribution is also known as the \"80-20 rule\". 80% of problems are represented by 20% of causes. If we eliminate the 20% of causes, we eliminate those 80 %\n",
    "\n",
    "The PDF for the Pareto II is: $$ p(x) = \\frac { a . m^a} {x^{a +1}} $$\n",
    "\n",
    "    \n",
    "The Pareto distribution,named after the Italian economist Vilfredo Pareto,is a power law probability distribution useful in many real world problems. Also known as Bradford distribution(outside the field of economics).\n",
    "Pareto developed the distribution to describe the distribution of wealth in an economy. It has also found use in insurance,web page access statistics,oil field sizes, and many other problems such as download frequency for projects in Sourceforge. I is one of the so-called \"fat-tailed\" distributions. The range of this distribution is x > 0\n",
    "\n",
    "\n",
    " "
   ]
  },
  {
   "cell_type": "code",
   "execution_count": null,
   "metadata": {},
   "outputs": [],
   "source": [
    "shape,mode = 3., 2.\n",
    "pt = (np.random.pareto(shape,1000) + 1) * mode\n",
    "\n",
    "a =  \"Graphical\\ Representation\\ Of\\ Pareto\\ Distribution\"\n",
    "count, bins, _ = plt.hist(pt, 100, density=True)\n",
    "fit = shape*mode*shape / bins**(shape+1)\n",
    "plt.plot(bins, max(count)*fit/max(fit), linewidth=2, color='r')\n",
    "plt.plot()\n",
    "plt.title('$%s$ \\n'%a, fontsize=20)\n",
    "plt.show()\n",
    "\n"
   ]
  },
  {
   "cell_type": "markdown",
   "metadata": {},
   "source": [
    "The Pareto distribution must be greater than 0.In the graph above 80% of the weights are in the lowest 20% of the range,while the other 20% fill the remainig 80% of the range. \n",
    "\n",
    "$$ CDF(x) = 1 - \\bigg(\\frac {xm} { x}\\bigg) ^ \\alpha $$\n",
    "\n",
    "\n"
   ]
  },
  {
   "cell_type": "markdown",
   "metadata": {},
   "source": [
    "## Seed For (Pseudo)Random Generator\n",
    "\n",
    "\n",
    "A true random number has the attribute of being undetermined\n",
    "Computers cannot generate true random numbers,because of their deterministic functions. So they use a method to generate pseudo-random numbers using a seed(could be the time on the clock),which is a starting point for a sequence. The main difference between random and pseudo-random is that random sequence never repeats and pseudo-random does eventually. The numpy uses two methods for generating pseudo random numbers:\n",
    "\n",
    "   - RandomState - a container for Mersenne Twister. It draws its generated pseudorandom from different probability distributions. Programmers can define the size of the sequence,by assigning a value to a keyword argument ** size**. If **size**=*None*,then a single value is returned\n",
    "    \n",
    "   - Seed - This can be an integer, an array(or other sequence) of integers of any length or None,in which case RandomState will try to read data from dev/urandom(or the Windows analogue) if available oir seedc from the clock otherwise.\n",
    "    \n",
    "On the point that a pseudo-random number eventually repeats,we can imagine a seed being created with 3 digits. After a sequence of a 1000 numbers,it starts repeating(because they are intgers).\n",
    "\n",
    "The randomState generates floating points depending on which distribution\n"
   ]
  },
  {
   "cell_type": "code",
   "execution_count": null,
   "metadata": {},
   "outputs": [],
   "source": [
    "# in order to demonstrate the point that random numbers are not random\n",
    "# this example will generate random numbers with the same seed twice\n",
    "# and then reset the seed and re run again to replicate the same sequence\n",
    "\n",
    "\n",
    "np.random.seed(93)\n",
    "\n",
    "# generate random numbers\n",
    "\n",
    "np.random.random(size=5)\n",
    "# if you keep running this cell the sequence does not change"
   ]
  },
  {
   "cell_type": "code",
   "execution_count": null,
   "metadata": {},
   "outputs": [],
   "source": [
    "np.random.seed(93)\n",
    "\n",
    "np.random.random(size=5)\n",
    "# exactly the same sequence"
   ]
  },
  {
   "cell_type": "code",
   "execution_count": null,
   "metadata": {},
   "outputs": [],
   "source": [
    "# set the RNG with a different seed\n",
    "np.random.seed(46)\n",
    "\n",
    "np.random.random(size=5)"
   ]
  },
  {
   "cell_type": "code",
   "execution_count": null,
   "metadata": {},
   "outputs": [],
   "source": [
    "np.random.seed(93)\n",
    "\n",
    "np.random.random(size=5)"
   ]
  },
  {
   "cell_type": "code",
   "execution_count": null,
   "metadata": {},
   "outputs": [],
   "source": [
    "np.random.seed(112)\n",
    "np.random.uniform(0,10,4)\n"
   ]
  },
  {
   "cell_type": "code",
   "execution_count": null,
   "metadata": {},
   "outputs": [],
   "source": [
    "r =np.random.RandomState(112)\n",
    "r.uniform(0,10,4)\n"
   ]
  },
  {
   "cell_type": "code",
   "execution_count": null,
   "metadata": {},
   "outputs": [],
   "source": [
    "np.random.seed(50)\n",
    "np.random.uniform(10)"
   ]
  },
  {
   "cell_type": "code",
   "execution_count": null,
   "metadata": {},
   "outputs": [],
   "source": [
    "np.random.RandomState(50)"
   ]
  },
  {
   "cell_type": "markdown",
   "metadata": {},
   "source": [
    "We can see by the above example that by setting the same **seed** we get the exact same results. This reproducibility is the evidence that the random numbers are not so random. This feature is useful when running tests where reproducible results are required."
   ]
  },
  {
   "cell_type": "markdown",
   "metadata": {},
   "source": [
    "The randomState does exactly the same as seed,but at a class level. Whereas seed can be used directly as a function that returns an array. randomState returns a class when called. seed calls the np.random command.\n",
    "Also, it can generate numbers from all the probability function distributions numpy has to offer,which is an advantage.\n",
    "In order for the RandomState to be passed, it has to be assigned to a variable and the command run by calling commands to that variable\n"
   ]
  },
  {
   "cell_type": "code",
   "execution_count": null,
   "metadata": {},
   "outputs": [],
   "source": [
    "r= np.random.RandomState(50)\n",
    "# we can generate a random number\n",
    "r.uniform(10)"
   ]
  },
  {
   "cell_type": "markdown",
   "metadata": {},
   "source": [
    "This video explains better the pseudorandom number generator and it is the one I used to provide the explanations above\n",
    "\n",
    "\n",
    "https://www.youtube.com/watch?v=GtOt7EBNEwQ"
   ]
  },
  {
   "cell_type": "markdown",
   "metadata": {},
   "source": [
    "## Conclusion\n",
    "\n",
    "As I worked in this notebook, I gained better insight on probability distributions, extended my knowledge on python's numpy package. Enhanced my jupyter notebook abilities on latex and mathtext(matplotlib) formatting"
   ]
  }
 ],
 "metadata": {
  "kernelspec": {
   "display_name": "Python 3",
   "language": "python",
   "name": "python3"
  },
  "language_info": {
   "codemirror_mode": {
    "name": "ipython",
    "version": 3
   },
   "file_extension": ".py",
   "mimetype": "text/x-python",
   "name": "python",
   "nbconvert_exporter": "python",
   "pygments_lexer": "ipython3",
   "version": "3.6.5"
  }
 },
 "nbformat": 4,
 "nbformat_minor": 2
}
